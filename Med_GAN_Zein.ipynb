{
  "cells": [
    {
      "cell_type": "markdown",
      "metadata": {
        "id": "_sjex6BHNAbO"
      },
      "source": [
        "#  referred paper\n",
        "Generating Discrete Patient Records"
      ]
    },
    {
      "cell_type": "markdown",
      "metadata": {
        "id": "gWjsOwUnZWWP"
      },
      "source": [
        "# install old version"
      ]
    },
    {
      "cell_type": "code",
      "execution_count": null,
      "metadata": {
        "colab": {
          "base_uri": "https://localhost:8080/"
        },
        "id": "LtnWBh2zZYyM",
        "outputId": "f9041f0b-b0a3-4cfd-e88a-efa62d492ab1"
      },
      "outputs": [
        {
          "output_type": "stream",
          "name": "stdout",
          "text": [
            "\u001b[33mWARNING: Ignoring invalid distribution -ensorflow-estimator (/usr/local/lib/python3.7/dist-packages)\u001b[0m\n",
            "\u001b[33mWARNING: Ignoring invalid distribution -ensorflow-estimator (/usr/local/lib/python3.7/dist-packages)\u001b[0m\n",
            "Found existing installation: tensorflow 1.13.2\n",
            "Uninstalling tensorflow-1.13.2:\n",
            "  Would remove:\n",
            "    /usr/local/bin/freeze_graph\n",
            "    /usr/local/bin/saved_model_cli\n",
            "    /usr/local/bin/tensorboard\n",
            "    /usr/local/bin/tf_upgrade_v2\n",
            "    /usr/local/bin/tflite_convert\n",
            "    /usr/local/bin/toco\n",
            "    /usr/local/bin/toco_from_protos\n",
            "    /usr/local/lib/python3.7/dist-packages/tensorflow-1.13.2.dist-info/*\n",
            "    /usr/local/lib/python3.7/dist-packages/tensorflow/*\n",
            "Proceed (y/n)? \u001b[31mERROR: Operation cancelled by user\u001b[0m\n",
            "Traceback (most recent call last):\n",
            "  File \"/usr/local/lib/python3.7/dist-packages/pip/_internal/cli/base_command.py\", line 180, in _main\n",
            "    status = self.run(options, args)\n",
            "  File \"/usr/local/lib/python3.7/dist-packages/pip/_internal/commands/uninstall.py\", line 86, in run\n",
            "    auto_confirm=options.yes, verbose=self.verbosity > 0,\n",
            "  File \"/usr/local/lib/python3.7/dist-packages/pip/_internal/req/req_install.py\", line 658, in uninstall\n",
            "    uninstalled_pathset.remove(auto_confirm, verbose)\n",
            "  File \"/usr/local/lib/python3.7/dist-packages/pip/_internal/req/req_uninstall.py\", line 380, in remove\n",
            "    if auto_confirm or self._allowed_to_proceed(verbose):\n",
            "  File \"/usr/local/lib/python3.7/dist-packages/pip/_internal/req/req_uninstall.py\", line 423, in _allowed_to_proceed\n",
            "    return ask('Proceed (y/n)? ', ('y', 'n')) == 'y'\n",
            "  File \"/usr/local/lib/python3.7/dist-packages/pip/_internal/utils/misc.py\", line 203, in ask\n",
            "    response = input(message)\n",
            "KeyboardInterrupt\n",
            "\n",
            "During handling of the above exception, another exception occurred:\n",
            "\n",
            "Traceback (most recent call last):\n",
            "  File \"/usr/local/bin/pip3\", line 8, in <module>\n",
            "    sys.exit(main())\n",
            "  File \"/usr/local/lib/python3.7/dist-packages/pip/_internal/cli/main.py\", line 71, in main\n",
            "    return command.main(cmd_args)\n",
            "  File \"/usr/local/lib/python3.7/dist-packages/pip/_internal/cli/base_command.py\", line 104, in main\n",
            "    return self._main(args)\n",
            "  File \"/usr/local/lib/python3.7/dist-packages/pip/_internal/cli/base_command.py\", line 213, in _main\n",
            "    logger.debug(\"Exception information:\", exc_info=True)\n",
            "  File \"/usr/lib/python3.7/logging/__init__.py\", line 1366, in debug\n",
            "    self._log(DEBUG, msg, args, **kwargs)\n",
            "  File \"/usr/lib/python3.7/logging/__init__.py\", line 1514, in _log\n",
            "    self.handle(record)\n",
            "  File \"/usr/lib/python3.7/logging/__init__.py\", line 1524, in handle\n",
            "    self.callHandlers(record)\n",
            "  File \"/usr/lib/python3.7/logging/__init__.py\", line 1586, in callHandlers\n",
            "    hdlr.handle(record)\n",
            "  File \"/usr/lib/python3.7/logging/__init__.py\", line 894, in handle\n",
            "    self.emit(record)\n",
            "  File \"/usr/lib/python3.7/logging/handlers.py\", line 71, in emit\n",
            "    logging.FileHandler.emit(self, record)\n",
            "  File \"/usr/lib/python3.7/logging/__init__.py\", line 1127, in emit\n",
            "    StreamHandler.emit(self, record)\n",
            "  File \"/usr/lib/python3.7/logging/__init__.py\", line 1025, in emit\n",
            "    msg = self.format(record)\n",
            "  File \"/usr/lib/python3.7/logging/__init__.py\", line 869, in format\n",
            "    return fmt.format(record)\n",
            "  File \"/usr/local/lib/python3.7/dist-packages/pip/_internal/utils/logging.py\", line 130, in format\n",
            "    formatted = super().format(record)\n",
            "  File \"/usr/lib/python3.7/logging/__init__.py\", line 616, in format\n",
            "    record.exc_text = self.formatException(record.exc_info)\n",
            "  File \"/usr/lib/python3.7/logging/__init__.py\", line 566, in formatException\n",
            "    traceback.print_exception(ei[0], ei[1], tb, None, sio)\n",
            "  File \"/usr/lib/python3.7/traceback.py\", line 104, in print_exception\n",
            "    type(value), value, tb, limit=limit).format(chain=chain):\n",
            "  File \"/usr/lib/python3.7/traceback.py\", line 508, in __init__\n",
            "    capture_locals=capture_locals)\n",
            "  File \"/usr/lib/python3.7/traceback.py\", line 363, in extract\n",
            "    f.line\n",
            "  File \"/usr/lib/python3.7/traceback.py\", line 285, in line\n",
            "    self._line = linecache.getline(self.filename, self.lineno).strip()\n",
            "  File \"/usr/lib/python3.7/linecache.py\", line 16, in getline\n",
            "    lines = getlines(filename, module_globals)\n",
            "  File \"/usr/lib/python3.7/linecache.py\", line 47, in getlines\n",
            "    return updatecache(filename, module_globals)\n",
            "  File \"/usr/lib/python3.7/linecache.py\", line 136, in updatecache\n",
            "    with tokenize.open(fullname) as fp:\n",
            "  File \"/usr/lib/python3.7/tokenize.py\", line 449, in open\n",
            "    encoding, lines = detect_encoding(buffer.readline)\n",
            "  File \"/usr/lib/python3.7/tokenize.py\", line 418, in detect_encoding\n",
            "    first = read_or_stop()\n",
            "  File \"/usr/lib/python3.7/tokenize.py\", line 376, in read_or_stop\n",
            "    return readline()\n",
            "KeyboardInterrupt\n",
            "\u001b[33mWARNING: Ignoring invalid distribution -ensorflow-estimator (/usr/local/lib/python3.7/dist-packages)\u001b[0m\n",
            "\u001b[33mWARNING: Ignoring invalid distribution -ensorflow-estimator (/usr/local/lib/python3.7/dist-packages)\u001b[0m\n",
            "Requirement already satisfied: tensorflow==1.13.2 in /usr/local/lib/python3.7/dist-packages (1.13.2)\n",
            "Requirement already satisfied: keras-applications>=1.0.6 in /usr/local/lib/python3.7/dist-packages (from tensorflow==1.13.2) (1.0.8)\n",
            "Requirement already satisfied: tensorboard<1.14.0,>=1.13.0 in /usr/local/lib/python3.7/dist-packages (from tensorflow==1.13.2) (1.13.1)\n",
            "Requirement already satisfied: termcolor>=1.1.0 in /usr/local/lib/python3.7/dist-packages (from tensorflow==1.13.2) (1.1.0)\n",
            "Requirement already satisfied: astor>=0.6.0 in /usr/local/lib/python3.7/dist-packages (from tensorflow==1.13.2) (0.8.1)\n",
            "Requirement already satisfied: keras-preprocessing>=1.0.5 in /usr/local/lib/python3.7/dist-packages (from tensorflow==1.13.2) (1.1.2)\n",
            "Requirement already satisfied: six>=1.10.0 in /usr/local/lib/python3.7/dist-packages (from tensorflow==1.13.2) (1.15.0)\n",
            "Requirement already satisfied: grpcio>=1.8.6 in /usr/local/lib/python3.7/dist-packages (from tensorflow==1.13.2) (1.42.0)\n",
            "Requirement already satisfied: gast>=0.2.0 in /usr/local/lib/python3.7/dist-packages (from tensorflow==1.13.2) (0.4.0)\n",
            "Requirement already satisfied: protobuf>=3.6.1 in /usr/local/lib/python3.7/dist-packages (from tensorflow==1.13.2) (3.17.3)\n",
            "Requirement already satisfied: numpy<2.0,>=1.16.0 in /usr/local/lib/python3.7/dist-packages (from tensorflow==1.13.2) (1.19.5)\n",
            "Requirement already satisfied: wheel>=0.26 in /usr/local/lib/python3.7/dist-packages (from tensorflow==1.13.2) (0.37.0)\n",
            "Requirement already satisfied: absl-py>=0.1.6 in /usr/local/lib/python3.7/dist-packages (from tensorflow==1.13.2) (0.12.0)\n",
            "Requirement already satisfied: tensorflow-estimator<1.14.0rc0,>=1.13.0 in /usr/local/lib/python3.7/dist-packages (from tensorflow==1.13.2) (1.13.0)\n",
            "Requirement already satisfied: h5py in /usr/local/lib/python3.7/dist-packages (from keras-applications>=1.0.6->tensorflow==1.13.2) (3.1.0)\n",
            "Requirement already satisfied: markdown>=2.6.8 in /usr/local/lib/python3.7/dist-packages (from tensorboard<1.14.0,>=1.13.0->tensorflow==1.13.2) (3.3.6)\n",
            "Requirement already satisfied: werkzeug>=0.11.15 in /usr/local/lib/python3.7/dist-packages (from tensorboard<1.14.0,>=1.13.0->tensorflow==1.13.2) (1.0.1)\n",
            "Requirement already satisfied: importlib-metadata>=4.4 in /usr/local/lib/python3.7/dist-packages (from markdown>=2.6.8->tensorboard<1.14.0,>=1.13.0->tensorflow==1.13.2) (4.8.2)\n",
            "Requirement already satisfied: zipp>=0.5 in /usr/local/lib/python3.7/dist-packages (from importlib-metadata>=4.4->markdown>=2.6.8->tensorboard<1.14.0,>=1.13.0->tensorflow==1.13.2) (3.6.0)\n",
            "Requirement already satisfied: typing-extensions>=3.6.4 in /usr/local/lib/python3.7/dist-packages (from importlib-metadata>=4.4->markdown>=2.6.8->tensorboard<1.14.0,>=1.13.0->tensorflow==1.13.2) (3.10.0.2)\n",
            "Requirement already satisfied: mock>=2.0.0 in /usr/local/lib/python3.7/dist-packages (from tensorflow-estimator<1.14.0rc0,>=1.13.0->tensorflow==1.13.2) (4.0.3)\n",
            "Requirement already satisfied: cached-property in /usr/local/lib/python3.7/dist-packages (from h5py->keras-applications>=1.0.6->tensorflow==1.13.2) (1.5.2)\n",
            "\u001b[33mWARNING: Ignoring invalid distribution -ensorflow-estimator (/usr/local/lib/python3.7/dist-packages)\u001b[0m\n"
          ]
        }
      ],
      "source": [
        "!pip uninstall tensorflow\n",
        "!pip install tensorflow==1.13.2"
      ]
    },
    {
      "cell_type": "markdown",
      "metadata": {
        "id": "BQ_kybuXMocE"
      },
      "source": [
        "# mount drive"
      ]
    },
    {
      "cell_type": "code",
      "execution_count": null,
      "metadata": {
        "colab": {
          "base_uri": "https://localhost:8080/"
        },
        "id": "3WfXA3OlMV5W",
        "outputId": "dfbb7bde-c0ca-4e05-d93c-49b576f25621"
      },
      "outputs": [
        {
          "output_type": "stream",
          "name": "stdout",
          "text": [
            "Drive already mounted at /content/drive/; to attempt to forcibly remount, call drive.mount(\"/content/drive/\", force_remount=True).\n"
          ]
        }
      ],
      "source": [
        "import os\n",
        "from PIL import Image\n",
        "\n",
        "from google.colab import drive\n",
        "drive.mount('/content/drive/')"
      ]
    },
    {
      "cell_type": "code",
      "execution_count": null,
      "metadata": {
        "id": "MICtaIy4Mjub"
      },
      "outputs": [],
      "source": [
        "os.chdir('/content/drive/MyDrive')"
      ]
    },
    {
      "cell_type": "markdown",
      "metadata": {
        "id": "Aj783tOGMrAV"
      },
      "source": [
        "# clone"
      ]
    },
    {
      "cell_type": "code",
      "execution_count": null,
      "metadata": {
        "colab": {
          "base_uri": "https://localhost:8080/"
        },
        "id": "tRqCby-2MtDf",
        "outputId": "1328fb3b-b60b-4935-8697-e208bd4d0e14"
      },
      "outputs": [
        {
          "name": "stdout",
          "output_type": "stream",
          "text": [
            "Cloning into 'medgan'...\n",
            "remote: Enumerating objects: 68, done.\u001b[K\n",
            "remote: Total 68 (delta 0), reused 0 (delta 0), pack-reused 68\u001b[K\n",
            "Unpacking objects: 100% (68/68), done.\n"
          ]
        }
      ],
      "source": [
        "!git clone https://github.com/mp2893/medgan.git"
      ]
    },
    {
      "cell_type": "code",
      "execution_count": null,
      "metadata": {
        "id": "AoldP5BJM0cL"
      },
      "outputs": [],
      "source": [
        "os.chdir('/content/drive/MyDrive/medgan')"
      ]
    },
    {
      "cell_type": "markdown",
      "metadata": {
        "id": "MJXjqZLINJOA"
      },
      "source": [
        "# preparing data"
      ]
    },
    {
      "cell_type": "code",
      "execution_count": null,
      "metadata": {
        "id": "i-LEEsm-M-Om"
      },
      "outputs": [],
      "source": [
        "import sys\n",
        "import _pickle as pickle\n",
        "import numpy as np\n",
        "from datetime import datetime"
      ]
    },
    {
      "cell_type": "code",
      "execution_count": null,
      "metadata": {
        "id": "-nOKFPUJT4Yl"
      },
      "outputs": [],
      "source": [
        "def convert_to_icd9(dxStr):\n",
        "    if dxStr.startswith('E'):\n",
        "        if len(dxStr) > 4: return dxStr[:4] + '.' + dxStr[4:]\n",
        "        else: return dxStr\n",
        "    else:\n",
        "        if len(dxStr) > 3: return dxStr[:3] + '.' + dxStr[3:]\n",
        "        else: return dxStr\n",
        "\n",
        "def convert_to_3digit_icd9(dxStr):\n",
        "    if dxStr.startswith('E'):\n",
        "        if len(dxStr) > 4: return dxStr[:4]\n",
        "        else: return dxStr\n",
        "    else:\n",
        "        if len(dxStr) > 3: return dxStr[:3]\n",
        "        else: return dxStr"
      ]
    },
    {
      "cell_type": "code",
      "execution_count": null,
      "metadata": {
        "id": "o0FJ4v56T_YM"
      },
      "outputs": [],
      "source": [
        "# input arguments\n",
        "binary_count = 'binary'\n",
        "\n",
        "if binary_count == 'count':\n",
        "  base_dir = 'GOSH/count/'\n",
        "else:\n",
        "  base_dir = 'GOSH/binary/'\n",
        "\n",
        "raw_data_dir = 'GOSH/raw_data/'\n",
        "processed_data_dir = base_dir + 'processed_mimic/'\n",
        "model_dir = base_dir + 'models/'\n",
        "gen_data_dir = base_dir + 'generated_data/'"
      ]
    },
    {
      "cell_type": "code",
      "execution_count": null,
      "metadata": {
        "id": "psUoB-TmUdb4"
      },
      "outputs": [],
      "source": [
        "admissionFile = raw_data_dir + 'ADMISSIONS.csv'\n",
        "diagnosisFile = raw_data_dir + 'DIAGNOSES_ICD.csv'\n",
        "outFile = processed_data_dir + 'processed_mimic'"
      ]
    },
    {
      "cell_type": "code",
      "execution_count": null,
      "metadata": {
        "id": "dI-tnBWjVEV9"
      },
      "outputs": [],
      "source": [
        "if binary_count != 'binary' and binary_count != 'count':\n",
        "    print('You must choose either binary or count.')"
      ]
    },
    {
      "cell_type": "code",
      "execution_count": null,
      "metadata": {
        "colab": {
          "base_uri": "https://localhost:8080/"
        },
        "id": "inWb0MtjVE25",
        "outputId": "f8745cd1-9f13-47cd-a8a5-e8633f01f4d7"
      },
      "outputs": [
        {
          "output_type": "stream",
          "name": "stdout",
          "text": [
            "Building pid-admission mapping, admission-date mapping\n",
            "Building admission-dxList mapping\n",
            "Building pid-sortedVisits mapping\n",
            "Building pids, dates, strSeqs\n",
            "Converting strSeqs to intSeqs, and making types\n",
            "Constructing the matrix\n"
          ]
        }
      ],
      "source": [
        "print('Building pid-admission mapping, admission-date mapping')\n",
        "pidAdmMap = {}\n",
        "admDateMap = {}\n",
        "infd = open(admissionFile, 'r')\n",
        "infd.readline()\n",
        "for line in infd:\n",
        "    tokens = line.strip().split(',')\n",
        "    pid = int(tokens[1])\n",
        "    admId = int(tokens[2])\n",
        "    admTime = datetime.strptime(tokens[3], '%Y-%m-%d %H:%M:%S')\n",
        "    admDateMap[admId] = admTime\n",
        "    if pid in pidAdmMap: pidAdmMap[pid].append(admId)\n",
        "    else: pidAdmMap[pid] = [admId]\n",
        "infd.close()\n",
        "\n",
        "print('Building admission-dxList mapping')\n",
        "admDxMap = {}\n",
        "infd = open(diagnosisFile, 'r')\n",
        "infd.readline()\n",
        "for line in infd:\n",
        "    tokens = line.strip().split(',')\n",
        "    admId = int(tokens[2])\n",
        "    # Uncomment this line and comment the line below, if you want to use the entire ICD9 digits.\n",
        "    dxStr = 'D_' + convert_to_icd9(tokens[4][1:-1])\n",
        "    #dxStr = 'D_' + convert_to_3digit_icd9(tokens[4][1:-1])\n",
        "    if admId in admDxMap: admDxMap[admId].append(dxStr)\n",
        "    else: admDxMap[admId] = [dxStr]\n",
        "infd.close()\n",
        "\n",
        "print('Building pid-sortedVisits mapping')\n",
        "pidSeqMap = {}\n",
        "for pid, admIdList in pidAdmMap.items():\n",
        "    #if len(admIdList) < 2: continue\n",
        "    sortedList = sorted([(admDateMap[admId], admDxMap[admId]) for admId in admIdList])\n",
        "    pidSeqMap[pid] = sortedList\n",
        "\n",
        "print('Building pids, dates, strSeqs')\n",
        "pids = []\n",
        "dates = []\n",
        "seqs = []\n",
        "for pid, visits in pidSeqMap.items():\n",
        "    pids.append(pid)\n",
        "    seq = []\n",
        "    date = []\n",
        "    for visit in visits:\n",
        "        date.append(visit[0])\n",
        "        seq.append(visit[1])\n",
        "    dates.append(date)\n",
        "    seqs.append(seq)\n",
        "\n",
        "print('Converting strSeqs to intSeqs, and making types')\n",
        "types = {}\n",
        "newSeqs = []\n",
        "for patient in seqs:\n",
        "    newPatient = []\n",
        "    for visit in patient:\n",
        "        newVisit = []\n",
        "        for code in visit:\n",
        "            if code in types:\n",
        "                newVisit.append(types[code])\n",
        "            else:\n",
        "                types[code] = len(types)\n",
        "                newVisit.append(types[code])\n",
        "        newPatient.append(newVisit)\n",
        "    newSeqs.append(newPatient)\n",
        "\n",
        "print('Constructing the matrix')\n",
        "numPatients = len(newSeqs)\n",
        "numCodes = len(types)\n",
        "matrix = np.zeros((numPatients, numCodes)).astype('float32')\n",
        "for i, patient in enumerate(newSeqs):\n",
        "    for visit in patient:\n",
        "        for code in visit:\n",
        "            if binary_count == 'binary':\n",
        "                matrix[i][code] = 1.\n",
        "            else:\n",
        "                matrix[i][code] += 1.\n",
        "\n",
        "pickle.dump(pids, open(outFile+'.pids', 'wb'), -1)\n",
        "pickle.dump(matrix, open(outFile+'.matrix', 'wb'), -1)\n",
        "pickle.dump(types, open(outFile+'.types', 'wb'), -1)"
      ]
    },
    {
      "cell_type": "markdown",
      "source": [
        "# Add Lasso Regularization"
      ],
      "metadata": {
        "id": "djgpxJdARre4"
      }
    },
    {
      "cell_type": "markdown",
      "source": [
        "we try to implement Lasso Regularization. Based on GANs notion of zero-sum game setting for two players, the problem between generator _G_ and discriminator _D_. the formula can be written as follows:\n",
        "\n",
        "![image.png](data:image/png;base64,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)\n",
        "\n",
        "Lasso regularization, also known as L1 regularization, adds magnitude of coefficient as penalty term to the loss function. it can be written as follows:\n",
        "\n",
        "![image.png](data:image/png;base64,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)![image.png](data:image/png;base64,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)\n",
        "\n",
        "Thus, with addition in optimization equation, we write this as follows:\n",
        "\n",
        "![image.png](data:image/png;base64,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)"
      ],
      "metadata": {
        "id": "vV7U8YruRvPT"
      }
    },
    {
      "cell_type": "markdown",
      "source": [
        "train model"
      ],
      "metadata": {
        "id": "0QILhC7rVbkx"
      }
    },
    {
      "cell_type": "code",
      "execution_count": null,
      "metadata": {
        "colab": {
          "base_uri": "https://localhost:8080/",
          "height": 1000
        },
        "id": "DCGpjJL4dm7_",
        "outputId": "0c2b6530-6148-4287-b072-4b8ed5034853"
      },
      "outputs": [
        {
          "output_type": "stream",
          "name": "stderr",
          "text": [
            "/usr/local/lib/python3.7/dist-packages/tensorflow/python/framework/dtypes.py:526: FutureWarning: Passing (type, 1) or '1type' as a synonym of type is deprecated; in a future version of numpy, it will be understood as (type, (1,)) / '(1,)type'.\n",
            "  _np_qint8 = np.dtype([(\"qint8\", np.int8, 1)])\n",
            "/usr/local/lib/python3.7/dist-packages/tensorflow/python/framework/dtypes.py:527: FutureWarning: Passing (type, 1) or '1type' as a synonym of type is deprecated; in a future version of numpy, it will be understood as (type, (1,)) / '(1,)type'.\n",
            "  _np_quint8 = np.dtype([(\"quint8\", np.uint8, 1)])\n",
            "/usr/local/lib/python3.7/dist-packages/tensorflow/python/framework/dtypes.py:528: FutureWarning: Passing (type, 1) or '1type' as a synonym of type is deprecated; in a future version of numpy, it will be understood as (type, (1,)) / '(1,)type'.\n",
            "  _np_qint16 = np.dtype([(\"qint16\", np.int16, 1)])\n",
            "/usr/local/lib/python3.7/dist-packages/tensorflow/python/framework/dtypes.py:529: FutureWarning: Passing (type, 1) or '1type' as a synonym of type is deprecated; in a future version of numpy, it will be understood as (type, (1,)) / '(1,)type'.\n",
            "  _np_quint16 = np.dtype([(\"quint16\", np.uint16, 1)])\n",
            "/usr/local/lib/python3.7/dist-packages/tensorflow/python/framework/dtypes.py:530: FutureWarning: Passing (type, 1) or '1type' as a synonym of type is deprecated; in a future version of numpy, it will be understood as (type, (1,)) / '(1,)type'.\n",
            "  _np_qint32 = np.dtype([(\"qint32\", np.int32, 1)])\n",
            "/usr/local/lib/python3.7/dist-packages/tensorflow/python/framework/dtypes.py:535: FutureWarning: Passing (type, 1) or '1type' as a synonym of type is deprecated; in a future version of numpy, it will be understood as (type, (1,)) / '(1,)type'.\n",
            "  np_resource = np.dtype([(\"resource\", np.ubyte, 1)])\n"
          ]
        },
        {
          "output_type": "stream",
          "name": "stdout",
          "text": [
            "WARNING:tensorflow:From /usr/local/lib/python3.7/dist-packages/tensorflow/python/framework/op_def_library.py:263: colocate_with (from tensorflow.python.framework.ops) is deprecated and will be removed in a future version.\n",
            "Instructions for updating:\n",
            "Colocations handled automatically by placer.\n",
            "WARNING:tensorflow:From /content/drive/My Drive/medgan/medgan.py:144: calling dropout (from tensorflow.python.ops.nn_ops) with keep_prob is deprecated and will be removed in a future version.\n",
            "Instructions for updating:\n",
            "Please use `rate` instead of `keep_prob`. Rate should be set to `rate = 1 - keep_prob`.\n",
            "WARNING:tensorflow:From /usr/local/lib/python3.7/dist-packages/tensorflow/python/ops/math_ops.py:3066: to_int32 (from tensorflow.python.ops.math_ops) is deprecated and will be removed in a future version.\n",
            "Instructions for updating:\n",
            "Use tf.cast instead.\n"
          ]
        },
        {
          "output_type": "stream",
          "name": "stderr",
          "text": [
            "/usr/local/lib/python3.7/dist-packages/numpy/core/fromnumeric.py:3373: RuntimeWarning: Mean of empty slice.\n",
            "  out=out, **kwargs)\n",
            "/usr/local/lib/python3.7/dist-packages/numpy/core/_methods.py:170: RuntimeWarning: invalid value encountered in double_scalars\n",
            "  ret = ret.dtype.type(ret / rcount)\n"
          ]
        },
        {
          "output_type": "stream",
          "name": "stdout",
          "text": [
            "Pretrain_Epoch:0, trainLoss:nan, validLoss:nan, validReverseLoss:0.000000\n",
            "Pretrain_Epoch:1, trainLoss:nan, validLoss:nan, validReverseLoss:0.000000\n",
            "Pretrain_Epoch:2, trainLoss:nan, validLoss:nan, validReverseLoss:0.000000\n",
            "Pretrain_Epoch:3, trainLoss:nan, validLoss:nan, validReverseLoss:0.000000\n",
            "Pretrain_Epoch:4, trainLoss:nan, validLoss:nan, validReverseLoss:0.000000\n",
            "Pretrain_Epoch:5, trainLoss:nan, validLoss:nan, validReverseLoss:0.000000\n",
            "Pretrain_Epoch:6, trainLoss:nan, validLoss:nan, validReverseLoss:0.000000\n",
            "Pretrain_Epoch:7, trainLoss:nan, validLoss:nan, validReverseLoss:0.000000\n",
            "Pretrain_Epoch:8, trainLoss:nan, validLoss:nan, validReverseLoss:0.000000\n",
            "Pretrain_Epoch:9, trainLoss:nan, validLoss:nan, validReverseLoss:0.000000\n",
            "Pretrain_Epoch:10, trainLoss:nan, validLoss:nan, validReverseLoss:0.000000\n",
            "Pretrain_Epoch:11, trainLoss:nan, validLoss:nan, validReverseLoss:0.000000\n",
            "Pretrain_Epoch:12, trainLoss:nan, validLoss:nan, validReverseLoss:0.000000\n",
            "Pretrain_Epoch:13, trainLoss:nan, validLoss:nan, validReverseLoss:0.000000\n",
            "Pretrain_Epoch:14, trainLoss:nan, validLoss:nan, validReverseLoss:0.000000\n",
            "Pretrain_Epoch:15, trainLoss:nan, validLoss:nan, validReverseLoss:0.000000\n",
            "Pretrain_Epoch:16, trainLoss:nan, validLoss:nan, validReverseLoss:0.000000\n",
            "Pretrain_Epoch:17, trainLoss:nan, validLoss:nan, validReverseLoss:0.000000\n",
            "Pretrain_Epoch:18, trainLoss:nan, validLoss:nan, validReverseLoss:0.000000\n",
            "Pretrain_Epoch:19, trainLoss:nan, validLoss:nan, validReverseLoss:0.000000\n",
            "Pretrain_Epoch:20, trainLoss:nan, validLoss:nan, validReverseLoss:0.000000\n",
            "Pretrain_Epoch:21, trainLoss:nan, validLoss:nan, validReverseLoss:0.000000\n",
            "Pretrain_Epoch:22, trainLoss:nan, validLoss:nan, validReverseLoss:0.000000\n",
            "Pretrain_Epoch:23, trainLoss:nan, validLoss:nan, validReverseLoss:0.000000\n",
            "Pretrain_Epoch:24, trainLoss:nan, validLoss:nan, validReverseLoss:0.000000\n",
            "Pretrain_Epoch:25, trainLoss:nan, validLoss:nan, validReverseLoss:0.000000\n",
            "Pretrain_Epoch:26, trainLoss:nan, validLoss:nan, validReverseLoss:0.000000\n",
            "Pretrain_Epoch:27, trainLoss:nan, validLoss:nan, validReverseLoss:0.000000\n",
            "Pretrain_Epoch:28, trainLoss:nan, validLoss:nan, validReverseLoss:0.000000\n",
            "Pretrain_Epoch:29, trainLoss:nan, validLoss:nan, validReverseLoss:0.000000\n",
            "Pretrain_Epoch:30, trainLoss:nan, validLoss:nan, validReverseLoss:0.000000\n",
            "Pretrain_Epoch:31, trainLoss:nan, validLoss:nan, validReverseLoss:0.000000\n",
            "Pretrain_Epoch:32, trainLoss:nan, validLoss:nan, validReverseLoss:0.000000\n",
            "Pretrain_Epoch:33, trainLoss:nan, validLoss:nan, validReverseLoss:0.000000\n",
            "Pretrain_Epoch:34, trainLoss:nan, validLoss:nan, validReverseLoss:0.000000\n",
            "Pretrain_Epoch:35, trainLoss:nan, validLoss:nan, validReverseLoss:0.000000\n",
            "Pretrain_Epoch:36, trainLoss:nan, validLoss:nan, validReverseLoss:0.000000\n",
            "Pretrain_Epoch:37, trainLoss:nan, validLoss:nan, validReverseLoss:0.000000\n",
            "Pretrain_Epoch:38, trainLoss:nan, validLoss:nan, validReverseLoss:0.000000\n",
            "Pretrain_Epoch:39, trainLoss:nan, validLoss:nan, validReverseLoss:0.000000\n",
            "Pretrain_Epoch:40, trainLoss:nan, validLoss:nan, validReverseLoss:0.000000\n",
            "Pretrain_Epoch:41, trainLoss:nan, validLoss:nan, validReverseLoss:0.000000\n",
            "Pretrain_Epoch:42, trainLoss:nan, validLoss:nan, validReverseLoss:0.000000\n",
            "Pretrain_Epoch:43, trainLoss:nan, validLoss:nan, validReverseLoss:0.000000\n",
            "Pretrain_Epoch:44, trainLoss:nan, validLoss:nan, validReverseLoss:0.000000\n",
            "Pretrain_Epoch:45, trainLoss:nan, validLoss:nan, validReverseLoss:0.000000\n",
            "Pretrain_Epoch:46, trainLoss:nan, validLoss:nan, validReverseLoss:0.000000\n",
            "Pretrain_Epoch:47, trainLoss:nan, validLoss:nan, validReverseLoss:0.000000\n",
            "Pretrain_Epoch:48, trainLoss:nan, validLoss:nan, validReverseLoss:0.000000\n",
            "Pretrain_Epoch:49, trainLoss:nan, validLoss:nan, validReverseLoss:0.000000\n",
            "Pretrain_Epoch:50, trainLoss:nan, validLoss:nan, validReverseLoss:0.000000\n",
            "Pretrain_Epoch:51, trainLoss:nan, validLoss:nan, validReverseLoss:0.000000\n",
            "Pretrain_Epoch:52, trainLoss:nan, validLoss:nan, validReverseLoss:0.000000\n",
            "Pretrain_Epoch:53, trainLoss:nan, validLoss:nan, validReverseLoss:0.000000\n",
            "Pretrain_Epoch:54, trainLoss:nan, validLoss:nan, validReverseLoss:0.000000\n",
            "Pretrain_Epoch:55, trainLoss:nan, validLoss:nan, validReverseLoss:0.000000\n",
            "Pretrain_Epoch:56, trainLoss:nan, validLoss:nan, validReverseLoss:0.000000\n",
            "Pretrain_Epoch:57, trainLoss:nan, validLoss:nan, validReverseLoss:0.000000\n",
            "Pretrain_Epoch:58, trainLoss:nan, validLoss:nan, validReverseLoss:0.000000\n",
            "Pretrain_Epoch:59, trainLoss:nan, validLoss:nan, validReverseLoss:0.000000\n",
            "Pretrain_Epoch:60, trainLoss:nan, validLoss:nan, validReverseLoss:0.000000\n",
            "Pretrain_Epoch:61, trainLoss:nan, validLoss:nan, validReverseLoss:0.000000\n",
            "Pretrain_Epoch:62, trainLoss:nan, validLoss:nan, validReverseLoss:0.000000\n",
            "Pretrain_Epoch:63, trainLoss:nan, validLoss:nan, validReverseLoss:0.000000\n",
            "Pretrain_Epoch:64, trainLoss:nan, validLoss:nan, validReverseLoss:0.000000\n",
            "Pretrain_Epoch:65, trainLoss:nan, validLoss:nan, validReverseLoss:0.000000\n",
            "Pretrain_Epoch:66, trainLoss:nan, validLoss:nan, validReverseLoss:0.000000\n",
            "Pretrain_Epoch:67, trainLoss:nan, validLoss:nan, validReverseLoss:0.000000\n",
            "Pretrain_Epoch:68, trainLoss:nan, validLoss:nan, validReverseLoss:0.000000\n",
            "Pretrain_Epoch:69, trainLoss:nan, validLoss:nan, validReverseLoss:0.000000\n",
            "Pretrain_Epoch:70, trainLoss:nan, validLoss:nan, validReverseLoss:0.000000\n",
            "Pretrain_Epoch:71, trainLoss:nan, validLoss:nan, validReverseLoss:0.000000\n",
            "Pretrain_Epoch:72, trainLoss:nan, validLoss:nan, validReverseLoss:0.000000\n",
            "Pretrain_Epoch:73, trainLoss:nan, validLoss:nan, validReverseLoss:0.000000\n",
            "Pretrain_Epoch:74, trainLoss:nan, validLoss:nan, validReverseLoss:0.000000\n",
            "Pretrain_Epoch:75, trainLoss:nan, validLoss:nan, validReverseLoss:0.000000\n",
            "Pretrain_Epoch:76, trainLoss:nan, validLoss:nan, validReverseLoss:0.000000\n",
            "Pretrain_Epoch:77, trainLoss:nan, validLoss:nan, validReverseLoss:0.000000\n",
            "Pretrain_Epoch:78, trainLoss:nan, validLoss:nan, validReverseLoss:0.000000\n",
            "Pretrain_Epoch:79, trainLoss:nan, validLoss:nan, validReverseLoss:0.000000\n",
            "Pretrain_Epoch:80, trainLoss:nan, validLoss:nan, validReverseLoss:0.000000\n",
            "Pretrain_Epoch:81, trainLoss:nan, validLoss:nan, validReverseLoss:0.000000\n",
            "Pretrain_Epoch:82, trainLoss:nan, validLoss:nan, validReverseLoss:0.000000\n",
            "Pretrain_Epoch:83, trainLoss:nan, validLoss:nan, validReverseLoss:0.000000\n",
            "Pretrain_Epoch:84, trainLoss:nan, validLoss:nan, validReverseLoss:0.000000\n",
            "Pretrain_Epoch:85, trainLoss:nan, validLoss:nan, validReverseLoss:0.000000\n",
            "Pretrain_Epoch:86, trainLoss:nan, validLoss:nan, validReverseLoss:0.000000\n",
            "Pretrain_Epoch:87, trainLoss:nan, validLoss:nan, validReverseLoss:0.000000\n",
            "Pretrain_Epoch:88, trainLoss:nan, validLoss:nan, validReverseLoss:0.000000\n",
            "Pretrain_Epoch:89, trainLoss:nan, validLoss:nan, validReverseLoss:0.000000\n",
            "Pretrain_Epoch:90, trainLoss:nan, validLoss:nan, validReverseLoss:0.000000\n",
            "Pretrain_Epoch:91, trainLoss:nan, validLoss:nan, validReverseLoss:0.000000\n",
            "Pretrain_Epoch:92, trainLoss:nan, validLoss:nan, validReverseLoss:0.000000\n",
            "Pretrain_Epoch:93, trainLoss:nan, validLoss:nan, validReverseLoss:0.000000\n",
            "Pretrain_Epoch:94, trainLoss:nan, validLoss:nan, validReverseLoss:0.000000\n",
            "Pretrain_Epoch:95, trainLoss:nan, validLoss:nan, validReverseLoss:0.000000\n",
            "Pretrain_Epoch:96, trainLoss:nan, validLoss:nan, validReverseLoss:0.000000\n",
            "Pretrain_Epoch:97, trainLoss:nan, validLoss:nan, validReverseLoss:0.000000\n",
            "Pretrain_Epoch:98, trainLoss:nan, validLoss:nan, validReverseLoss:0.000000\n",
            "Pretrain_Epoch:99, trainLoss:nan, validLoss:nan, validReverseLoss:0.000000\n"
          ]
        },
        {
          "output_type": "error",
          "ename": "ValueError",
          "evalue": "ignored",
          "traceback": [
            "\u001b[0;31m---------------------------------------------------------------------------\u001b[0m",
            "\u001b[0;31mValueError\u001b[0m                                Traceback (most recent call last)",
            "\u001b[0;32m<ipython-input-4-f2ae4b820edc>\u001b[0m in \u001b[0;36m<module>\u001b[0;34m()\u001b[0m\n\u001b[1;32m     11\u001b[0m               \u001b[0mbatchSize\u001b[0m\u001b[0;34m=\u001b[0m\u001b[0;36m1000\u001b[0m\u001b[0;34m,\u001b[0m\u001b[0;34m\u001b[0m\u001b[0;34m\u001b[0m\u001b[0m\n\u001b[1;32m     12\u001b[0m               \u001b[0mpretrainEpochs\u001b[0m\u001b[0;34m=\u001b[0m\u001b[0;36m100\u001b[0m\u001b[0;34m,\u001b[0m\u001b[0;34m\u001b[0m\u001b[0;34m\u001b[0m\u001b[0m\n\u001b[0;32m---> 13\u001b[0;31m               saveMaxKeep=0)\n\u001b[0m",
            "\u001b[0;32m/content/drive/My Drive/medgan/medgan.py\u001b[0m in \u001b[0;36mtrain\u001b[0;34m(self, dataPath, modelPath, outPath, nEpochs, discriminatorTrainPeriod, generatorTrainPeriod, pretrainBatchSize, batchSize, pretrainEpochs, saveMaxKeep)\u001b[0m\n\u001b[1;32m    310\u001b[0m                         \u001b[0mbatchX\u001b[0m \u001b[0;34m=\u001b[0m \u001b[0mtrainX\u001b[0m\u001b[0;34m[\u001b[0m\u001b[0mbatchIdx\u001b[0m\u001b[0;34m]\u001b[0m\u001b[0;34m\u001b[0m\u001b[0;34m\u001b[0m\u001b[0m\n\u001b[1;32m    311\u001b[0m                         \u001b[0mrandomX\u001b[0m \u001b[0;34m=\u001b[0m \u001b[0mnp\u001b[0m\u001b[0;34m.\u001b[0m\u001b[0mrandom\u001b[0m\u001b[0;34m.\u001b[0m\u001b[0mnormal\u001b[0m\u001b[0;34m(\u001b[0m\u001b[0msize\u001b[0m\u001b[0;34m=\u001b[0m\u001b[0;34m(\u001b[0m\u001b[0mbatchSize\u001b[0m\u001b[0;34m,\u001b[0m \u001b[0mself\u001b[0m\u001b[0;34m.\u001b[0m\u001b[0mrandomDim\u001b[0m\u001b[0;34m)\u001b[0m\u001b[0;34m)\u001b[0m\u001b[0;34m\u001b[0m\u001b[0;34m\u001b[0m\u001b[0m\n\u001b[0;32m--> 312\u001b[0;31m                         \u001b[0m_\u001b[0m\u001b[0;34m,\u001b[0m \u001b[0mdiscLoss\u001b[0m \u001b[0;34m=\u001b[0m \u001b[0msess\u001b[0m\u001b[0;34m.\u001b[0m\u001b[0mrun\u001b[0m\u001b[0;34m(\u001b[0m\u001b[0;34m[\u001b[0m\u001b[0moptimize_d\u001b[0m\u001b[0;34m,\u001b[0m \u001b[0mloss_d\u001b[0m\u001b[0;34m]\u001b[0m\u001b[0;34m,\u001b[0m \u001b[0mfeed_dict\u001b[0m\u001b[0;34m=\u001b[0m\u001b[0;34m{\u001b[0m\u001b[0mx_raw\u001b[0m\u001b[0;34m:\u001b[0m\u001b[0mbatchX\u001b[0m\u001b[0;34m,\u001b[0m \u001b[0mx_random\u001b[0m\u001b[0;34m:\u001b[0m\u001b[0mrandomX\u001b[0m\u001b[0;34m,\u001b[0m \u001b[0mkeep_prob\u001b[0m\u001b[0;34m:\u001b[0m\u001b[0;36m1.0\u001b[0m\u001b[0;34m,\u001b[0m \u001b[0mbn_train\u001b[0m\u001b[0;34m:\u001b[0m\u001b[0;32mFalse\u001b[0m\u001b[0;34m}\u001b[0m\u001b[0;34m)\u001b[0m\u001b[0;34m\u001b[0m\u001b[0;34m\u001b[0m\u001b[0m\n\u001b[0m\u001b[1;32m    313\u001b[0m                         \u001b[0;31m#_, discLoss = sess.run([optimize_d, loss_d], feed_dict={x_raw:batchX, x_random:randomX, rate:1.0, bn_train:False})\u001b[0m\u001b[0;34m\u001b[0m\u001b[0;34m\u001b[0m\u001b[0;34m\u001b[0m\u001b[0m\n\u001b[1;32m    314\u001b[0m                         \u001b[0md_loss_vec\u001b[0m\u001b[0;34m.\u001b[0m\u001b[0mappend\u001b[0m\u001b[0;34m(\u001b[0m\u001b[0mdiscLoss\u001b[0m\u001b[0;34m)\u001b[0m\u001b[0;34m\u001b[0m\u001b[0;34m\u001b[0m\u001b[0m\n",
            "\u001b[0;32m/usr/local/lib/python3.7/dist-packages/tensorflow/python/client/session.py\u001b[0m in \u001b[0;36mrun\u001b[0;34m(self, fetches, feed_dict, options, run_metadata)\u001b[0m\n\u001b[1;32m    927\u001b[0m     \u001b[0;32mtry\u001b[0m\u001b[0;34m:\u001b[0m\u001b[0;34m\u001b[0m\u001b[0;34m\u001b[0m\u001b[0m\n\u001b[1;32m    928\u001b[0m       result = self._run(None, fetches, feed_dict, options_ptr,\n\u001b[0;32m--> 929\u001b[0;31m                          run_metadata_ptr)\n\u001b[0m\u001b[1;32m    930\u001b[0m       \u001b[0;32mif\u001b[0m \u001b[0mrun_metadata\u001b[0m\u001b[0;34m:\u001b[0m\u001b[0;34m\u001b[0m\u001b[0;34m\u001b[0m\u001b[0m\n\u001b[1;32m    931\u001b[0m         \u001b[0mproto_data\u001b[0m \u001b[0;34m=\u001b[0m \u001b[0mtf_session\u001b[0m\u001b[0;34m.\u001b[0m\u001b[0mTF_GetBuffer\u001b[0m\u001b[0;34m(\u001b[0m\u001b[0mrun_metadata_ptr\u001b[0m\u001b[0;34m)\u001b[0m\u001b[0;34m\u001b[0m\u001b[0;34m\u001b[0m\u001b[0m\n",
            "\u001b[0;32m/usr/local/lib/python3.7/dist-packages/tensorflow/python/client/session.py\u001b[0m in \u001b[0;36m_run\u001b[0;34m(self, handle, fetches, feed_dict, options, run_metadata)\u001b[0m\n\u001b[1;32m   1126\u001b[0m                              \u001b[0;34m'which has shape %r'\u001b[0m \u001b[0;34m%\u001b[0m\u001b[0;34m\u001b[0m\u001b[0;34m\u001b[0m\u001b[0m\n\u001b[1;32m   1127\u001b[0m                              (np_val.shape, subfeed_t.name,\n\u001b[0;32m-> 1128\u001b[0;31m                               str(subfeed_t.get_shape())))\n\u001b[0m\u001b[1;32m   1129\u001b[0m           \u001b[0;32mif\u001b[0m \u001b[0;32mnot\u001b[0m \u001b[0mself\u001b[0m\u001b[0;34m.\u001b[0m\u001b[0mgraph\u001b[0m\u001b[0;34m.\u001b[0m\u001b[0mis_feedable\u001b[0m\u001b[0;34m(\u001b[0m\u001b[0msubfeed_t\u001b[0m\u001b[0;34m)\u001b[0m\u001b[0;34m:\u001b[0m\u001b[0;34m\u001b[0m\u001b[0;34m\u001b[0m\u001b[0m\n\u001b[1;32m   1130\u001b[0m             \u001b[0;32mraise\u001b[0m \u001b[0mValueError\u001b[0m\u001b[0;34m(\u001b[0m\u001b[0;34m'Tensor %s may not be fed.'\u001b[0m \u001b[0;34m%\u001b[0m \u001b[0msubfeed_t\u001b[0m\u001b[0;34m)\u001b[0m\u001b[0;34m\u001b[0m\u001b[0;34m\u001b[0m\u001b[0m\n",
            "\u001b[0;31mValueError\u001b[0m: Cannot feed value of shape (1000, 295) for Tensor 'Placeholder:0', which has shape '(?, 615)'"
          ]
        }
      ],
      "source": [
        "from medgan import Medgan\n",
        "\n",
        "medgan = Medgan()\n",
        "medgan.train(dataPath='/content/drive/MyDrive/medgan/GOSH/binary/processed_mimic/processed_mimic.matrix',\n",
        "             modelPath='',\n",
        "              outPath='out',\n",
        "              nEpochs=500,\n",
        "              discriminatorTrainPeriod=2,\n",
        "              generatorTrainPeriod=1,\n",
        "              pretrainBatchSize=100,\n",
        "              batchSize=1000,\n",
        "              pretrainEpochs=100,\n",
        "              saveMaxKeep=0)"
      ]
    },
    {
      "cell_type": "markdown",
      "source": [
        "however, I'm deeply sorry that I still have issue when training model in this case."
      ],
      "metadata": {
        "id": "NOz8OQ2mVjS_"
      }
    }
  ],
  "metadata": {
    "colab": {
      "collapsed_sections": [],
      "name": "Med-GAN_Zein.ipynb",
      "provenance": []
    },
    "kernelspec": {
      "display_name": "Python 3",
      "name": "python3"
    },
    "language_info": {
      "name": "python"
    }
  },
  "nbformat": 4,
  "nbformat_minor": 0
}